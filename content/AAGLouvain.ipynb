
        {
            "cells": [
          {
           "cell_type": "markdown",
           "metadata": {},
           
           "source": ["// can\u0027t yet format YamlFrontmatter ([\"title: Louvain method for community detection\"; \"category: FSharp.FGL.ArrayAdjacencyGraph\"; \"categoryindex: 4\"; \"index: 4\"], Some { StartLine = 2 StartColumn = 0 EndLine = 6 EndColumn = 8 }) to pynb markdown\n",
"\n",
"#Louvain method for community detection\n",
"\u003chr\u003e\n",
"\u003chr\u003e\n",
"\u003ca name=\"Louvain method for community detection\"\u003e\u003c/a\u003e\n",
"## Louvain method for community detection\n"]
          }
,
          {
           "cell_type": "code",
           "metadata": {},
            "execution_count": 2, "outputs": [], 
           "source": ["#r \"FSharp.FGL\"\n",
"#r \"FSharp.FGL.ArrayAdjacencyGraph\"\n",
"\n",
"open FSharp.FGL\n",
"open FSharp.FGL.ArrayAdjacencyGraph\n",
"open ArrayAdjacencyGraph.Algorithms\n"]
          }
,
          {
           "cell_type": "markdown",
           "metadata": {},
           
           "source": ["[The louvain method for communty detection](https://iopscience.iop.org/article/10.1088/1742-5468/2008/10/P10008) is a easy method to extract the community structure of large networks. It is based on the concept of modularity optimization.\n",
"The algorithm is divided into two phases that are repeated iteratively:\n",
"\n",
"* \u003cb\u003eModularity optimization\u003c/b\u003e, in which every vertex is assigned its own community. After that, for each vertex its neighbours are used to calculate the gain of modularity by removing the vertex from its community and placing it in the community of a neighbour. The new commnuity for the vertex is the one with the biggest modularity gain. This is repeated until no furhter changes that increase the overall modularity can be done.\n",
"* \u003cb\u003eCommunity aggregation\u003c/b\u003e, in which the communities found are aggregated in order to build a new, reduced network of communities.\n",
"\n",
"These steps are repeated until no further increase of modularity is possible.\n",
"\u003ca name=\"Example\"\u003e\u003c/a\u003e\n",
"\u003ca name=\"Example\"\u003e\u003c/a\u003e\n",
"# Example\n",
"## Example Graph\n",
"The first step of the tutorial is the creation of a graph that Louvain can analyse. In this case the graph was taken from [wikipedia](https://en.wikipedia.org/wiki/Community_structure#/media/File:Network_Community_Structure.svg).\n"]
          }
,
          {
           "cell_type": "code",
           "metadata": {},
            "execution_count": 3, "outputs": [], 
           "source": ["//Creating a list of labeled vertices\n",
"let vertexList : LVertex\u003cint,string\u003e list =\n",
"    [\n",
"        for i=0 to 13 do\n",
"            (i),(sprintf \"%i\"i)\n",
"    ]\n",
"\n",
"//Creating a list of labeled edges\n",
"let edgeList : LEdge\u003cint,float\u003e list =\n",
"    [\n",
"        0,1,1.; 0,2,1.; 1,2,1.; 1,3,1.;2,3,1.; 3,4,1.; 3,13,1.; 4,5,1.; 4,8,1.; \n",
"        5,6,1.; 5,8,1.; 5,7,1.; 6,7,1.; 7,8,1.; 7,10,1.; 8,9,1.; 9,10,1.; \n",
"        9,12,1.; 9,13,1.; 10,11,1.; 10,13,1.; 11,12,1.; 11,13,1.; 12,13,1.\n",
"    ]\n",
"\n",
"//Creating a graph out of the two lists \n",
"let myGraph :ArrayAdjacencyGraph\u003cint,string,float\u003e =\n",
"    ArrayAdjacencyGraph(vertexList,edgeList)\n"]
          }
,
          {
           "cell_type": "markdown",
           "metadata": {},
           
           "source": ["## Louvain algorithm\n",
"\n",
"The application of the louvain algorithm on the example graph would look like this:\n",
"\n"]
          }
,
          {
           "cell_type": "code",
           "metadata": {},
            "execution_count": 4, "outputs": [], 
           "source": ["//Returns the graph with the louvain calculation on top of it\n",
"let myGraphLouvain : ArrayAdjacencyGraph\u003cint,string*int,float\u003e =\n",
"    Louvain.Louvain.louvain myGraph 0.00001\n"]
          }
,
          {
           "cell_type": "markdown",
           "metadata": {},
           
           "source": ["## Visualization\n",
"\n",
"The visualization of the graph is made possible by means of [Cyjs.NET](https://fslab.org/Cyjs.NET/) and looks like this.\n",
"The different colors each represent their own community.\n",
"\n",
"```\n",
"No value returned by any evaluator\n",
"```\n",
"\n"]
          }],
            "metadata": {
            "kernelspec": {"display_name": ".NET (F#)", "language": "F#", "name": ".net-fsharp"},
            "langauge_info": {
        "file_extension": ".fs",
        "mimetype": "text/x-fsharp",
        "name": "C#",
        "pygments_lexer": "fsharp",
        "version": "4.5"
        }
        },
            "nbformat": 4,
            "nbformat_minor": 1
        }
        

