
        {
            "cells": [
          {
           "cell_type": "markdown",
           "metadata": {},
           
           "source": ["// can\u0027t yet format YamlFrontmatter ([\"title: Introduction\"; \"category: FSharp.FGL.ArrayAdjacencyGraph\"; \"categoryindex: 4\"; \"index: 1\"], Some { StartLine = 2 StartColumn = 0 EndLine = 6 EndColumn = 8 }) to pynb markdown\n",
"\n",
"#ArrayAdjacencyGraph\n",
"\u003chr\u003e\n",
"\u003chr\u003e\n",
"\u003ca name=\"Introduction\"\u003e\u003c/a\u003e\n",
"## Introduction\n",
"FSharp.ArrayAdjacencyGraph is an adjacency list representation of a multigraph. It is a modified verion of the [YaccConstructor/QuickGraph/ArrayAdjacencyGraph](https://github.com/YaccConstructor/QuickGraph/blob/master/src/QuickGraph/ArrayAdjacencyGraph.cs). \n",
"In itself the model is a mutable fata type, but it can also be used in a functional, immutable style thanks to added functions.\n",
"\n",
"The model itself works on two different dictionaries, the label dictionary and the edge dictionary. Both feature vertices as keys. In case of the edge dictionary, the bound value is an array that includes all edges the vertex key is part of. \n",
"\n",
"Working with this graph model allows for fast caculations on the edges. \n",
"\u003ca name=\"Features\"\u003e\u003c/a\u003e\n",
"## Features\n",
"The basic structure of the implementation is done as in [YaccConstructor/QuickGraph/ArrayAdjacencyGraph](https://github.com/YaccConstructor/QuickGraph/blob/master/src/QuickGraph/ArrayAdjacencyGraph.cs), with minor adjustments to fit FSharp better. \n",
"\u003cbr\u003eBuilding a second graph representation type into FSharp.FGL results in improvements like:\n",
"\u003cp class=\"indent\"\u003e- \u003cb\u003estreamlining\u003c/b\u003e ArrayAdjacencyGraph is not limited to directed/undirected and therefore allows for a smoother workflow \u003c/p\u003e\n",
"\u003cp class=\"indent\"\u003e- \u003cb\u003ereadability\u003c/b\u003e  ArrayAdjacencyGraph features an easy to read code that is easier to understand than the FSharp.FGL variant \u003c/p\u003e\n",
"\u003cp class=\"indent\"\u003e- \u003cb\u003espeed\u003c/b\u003e        Computation on the ArrayAdjacencyGraph model is generally faster compared to the inductive graph model \u003c/p\u003e\n",
"\n"]
          }],
            "metadata": {
            "kernelspec": {"display_name": ".NET (F#)", "language": "F#", "name": ".net-fsharp"},
            "langauge_info": {
        "file_extension": ".fs",
        "mimetype": "text/x-fsharp",
        "name": "C#",
        "pygments_lexer": "fsharp",
        "version": "4.5"
        }
        },
            "nbformat": 4,
            "nbformat_minor": 1
        }
        

