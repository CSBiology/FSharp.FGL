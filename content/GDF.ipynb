
        {
            "cells": [
          {
           "cell_type": "markdown",
           "metadata": {},
           
           "source": ["// can\u0027t yet format YamlFrontmatter ([\"title: GDF format reader \"; \"category: FSharp.FGL.IO \"; \"categoryindex: 3 \"; \"index: 1 \"], Some { StartLine = 2 StartColumn = 0 EndLine = 6 EndColumn = 9 }) to pynb markdown\n",
"\n",
"# GDF Format\n",
"GDF is the file formate used by [The Graph Exploration System (GUESS)](http://graphexploration.cond.org/) . It is build similar to a database table or \u003cabbr title=\"Comma Seperated File\"\u003eCSV\u003c/abbr\u003e. Both edge and node data is defined in a single file, each initiated by their respective headers. Each element (i.e. node or edge) is on a line and values are separated by comma. Node definition is started by \"nodedef\u003ename\" and edge definition by \"edgedef\u003enode1\". For nodes, only the name is needed to build, but for edges both “node1” and “node2” are required, which are the names of the two nodes you are connecting.  \n",
"\u003cbr\u003e\n",
"## Example\n",
"This example demonstrates a possible gdf data structure.\n",
"\n",
"\u003cbr\u003e\n",
"\u003cbr\u003e\n",
"\n",
"  nodedef\u003ename VARCHAR,label VARCHAR\n",
"  \u003cbr\u003e\n",
"  s1,Site number 1\n",
"  \u003cbr\u003e\n",
"  s2,Site number 2\n",
"  \u003cbr\u003e\n",
"  s3,Site number 3\n",
"  \u003cbr\u003e\n",
"  edgedef\u003enode1 VARCHAR,node2 VARCHAR, weight DOUBLE\n",
"  \u003cbr\u003e\n",
"  s1,s2,1.2341\n",
"  \u003cbr\u003e\n",
"  s2,s3,0.453\n",
"  \u003cbr\u003e\n",
"  s3,s2, 2.34\n",
"  \u003cbr\u003e\n",
"  s3,s1, 0.871\n",
"  \u003cbr\u003e\n",
"\n",
"\u003cbr\u003e\n",
"\u003cbr\u003e\n",
"## Reading GDF files\n",
"To read GDF files, just use the ofFile function located in the gdf module of the FSharp.FGL.IO namespace. It does not need anything but the file path ans will return the vertices and edges as a vertex list, edge list tupel.\n"]
          }
,
          {
           "cell_type": "code",
           "metadata": {},
            "execution_count": 2, "outputs": [], 
           "source": ["open FSharp.FGL.IO.GDF\n",
"\n",
"let fileDir = __SOURCE_DIRECTORY__ + \"/data/\"\n",
"\n",
"let path = fileDir + \"GDFExample.txt\"\n",
"\n",
"let gdfFileRead = GDF.fromFile path\n"]
          }
,
          {
           "cell_type": "markdown",
           "metadata": {},
           
           "source": ["\u003cbr\u003e\n",
"\u003cbr\u003e\n",
"Additionally, you can use the fromArray function instead of fromFile to directly transform an array to a vertex list, edge list tupel.\n",
"\u003cbr\u003e\n"]
          }
,
          {
           "cell_type": "code",
           "metadata": {},
            "execution_count": 3, "outputs": [], 
           "source": ["open FSharp.FGL.IO.GDF\n",
"\n",
"let gdfArrayRead = GDF.fromArray [|\"nodedef\u003ename VARCHAR,label VARCHAR\";\"s1,Site number 1\";\"s2,Site number 2\";\"edgedef\u003enode1 VARCHAR,node2 VARCHAR,weight DOUBLE\";\"s1,s2,1.2341\"|]\n"]
          }
,
          {
           "cell_type": "markdown",
           "metadata": {},
           
           "source": ["##Writing GDF format files\n",
"To save a graph that takes the same form as a graph created by the reading GDF file functions, the toFile function can be applied. This function needs the vertex list and the edge list of the graph and saves the gdf file at the given path.\n"]
          }
,
          {
           "cell_type": "code",
           "metadata": {},
            "execution_count": 4, "outputs": [], 
           "source": ["open FSharp.FGL.IO.GDF\n",
"\n",
"let pathSave    = fileDir + \"GDFExampleToFile.txt\"\n",
"\n",
"let vertexList  = (fst gdfFileRead)\n",
"\n",
"let edgeList    = (snd gdfFileRead)\n",
"\n",
"GDF.toFile vertexList edgeList pathSave\n"]
          }],
            "metadata": {
            "kernelspec": {"display_name": ".NET (F#)", "language": "F#", "name": ".net-fsharp"},
            "langauge_info": {
        "file_extension": ".fs",
        "mimetype": "text/x-fsharp",
        "name": "C#",
        "pygments_lexer": "fsharp",
        "version": "4.5"
        }
        },
            "nbformat": 4,
            "nbformat_minor": 1
        }
        

