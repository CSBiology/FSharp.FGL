
        {
            "cells": [
          {
           "cell_type": "markdown",
           "metadata": {},
           
           "source": ["// can\u0027t yet format YamlFrontmatter ([\"title: Graph creation\"; \"category: ArrayAdjacencyGraph\"; \"categoryindex: 4\"; \"index: 2\"], Some { StartLine = 2 StartColumn = 0 EndLine = 6 EndColumn = 8 }) to pynb markdown\n",
"\n",
"\u003ca name=\"Creating a Graph\"\u003e\u003c/a\u003e\n",
"\u003ca name=\"Creating a Graph\"\u003e\u003c/a\u003e\n",
"## Creating a Graph\n",
"\n",
"The graph creation in ArrayAdjacencyGraph can be achived via two differnet approaches. \n",
"\u003cbr\u003e The easiest method is relies on a vertex list and an edge list like this :\n"]
          }
,
          {
           "cell_type": "code",
           "metadata": {},
            "execution_count": 2, "outputs": [], 
           "source": ["#r \"FSharp.Graph\"\n",
"#r \"FSharp.ArrayAdjacencyGraph\"\n",
"\n",
"open FSharp.Graph\n",
"open FSharp.ArrayAdjacencyGraph\n",
"\n",
"\n",
"//Creating a list of labeled vertices\n",
"let vertexList : LVertex\u003cint,string\u003e list = \n",
"    List.init 4 (fun i -\u003e \n",
"    i,\n",
"    sprintf \"VertexNr. %i\" i)\n",
"\n",
"//Creating a list of labeled edges\n",
"let edgeList : LEdge\u003cint,float\u003e list = \n",
"    [(1,2,1.);(2,1,1.);(1,3,0.5);(3,4,0.8);(4,3,0.8)]\n",
"\n",
"//Creating a graph out of the two lists \n",
"let myGraph : ArrayAdjacencyGraph\u003cint,string,float\u003e =\n",
"    ArrayAdjacencyGraph(vertexList,edgeList)\n"]
          }
,
          {
           "cell_type": "markdown",
           "metadata": {},
           
           "source": ["Alternatively, an empty graph can be created and filled with vertices and edges after its creation.\n"]
          }
,
          {
           "cell_type": "code",
           "metadata": {},
            "execution_count": 3, "outputs": [], 
           "source": ["//Creating an array of the labeled vertices\n",
"let vertexArray : LVertex\u003cint,string\u003e [] = \n",
"    vertexList\n",
"    |\u003e Array.ofList\n",
"\n",
"//Creating an array of the labeled edges\n",
"let edgeArray : LEdge\u003cint,float\u003e [] = \n",
"    edgeList\n",
"    |\u003e Array.ofList\n",
"\n",
"//Creating an empty graph and filling it afterwards\n",
"let myGraph\u0027 : ArrayAdjacencyGraph\u003cint,string,float\u003e =\n",
"    \n",
"    //Create a new, empty graph\n",
"    let emptyGraph = ArrayAdjacencyGraph()\n",
"    \n",
"    //Add an array of vertices with the AddManyVertices method\n",
"    emptyGraph.AddManyVertices(vertexArray)\n",
"    \n",
"    //Add an array of edges with the AddManyEdges method\n",
"    emptyGraph.AddManyEdges(edgeArray)\n",
"    \n",
"    //Return the graph\n",
"    emptyGraph\n"]
          }
,
          {
           "cell_type": "markdown",
           "metadata": {},
           
           "source": ["\u003ca name=\"Adding/Removing Vertices and Edges\"\u003e\u003c/a\u003e\n",
"\u003ca name=\"Adding/Removing Vertices and Edges\"\u003e\u003c/a\u003e\n",
"## Adding/Removing Vertices and Edges\n",
"The AddManyVertices and AddManyEdges, as well as their single counterparts AddVertex and AddEdge can be used at all times, allowing an easy modification of the graph. \n",
"\u003cbr\u003eAdding a vertex and an edge works like this:\n"]
          }
,
          {
           "cell_type": "code",
           "metadata": {},
            "execution_count": 4, "outputs": [], 
           "source": ["//New Vertex\n",
"let newVertex : LVertex\u003cint,string\u003e = \n",
"    123,\"123\"\n",
"\n",
"//Edge to new Vertex\n",
"let newEdge : LEdge\u003cint,float\u003e =\n",
"    1,123,10.\n",
"\n",
"//Add newVertex to myGraph\n",
"myGraph.AddVertex(newVertex)\n",
"\n",
"//Add newEdge to myGraph\n",
"myGraph.AddEdge(newEdge)\n"]
          }
,
          {
           "cell_type": "markdown",
           "metadata": {},
           
           "source": ["\u003cbr\u003e\n",
"\u003cbr\u003e\n",
"\u003chr\u003e\n",
"Removing vertices and edges is also very easy. If you remove a vertex from the Graph all edges featuring this vertex are also removed. The removal of edges themself is simple as well. \n"]
          }
,
          {
           "cell_type": "code",
           "metadata": {},
            "execution_count": 5, "outputs": [], 
           "source": ["//Remove an edge from myGraph\n",
"myGraph.RemoveEdge(1,2,1.)\n",
"\n",
"//Remove a vertex from myGraph\n",
"myGraph.RemoveVertex(123)\n"]
          }],
            "metadata": {
            "kernelspec": {"display_name": ".NET (F#)", "language": "F#", "name": ".net-fsharp"},
            "langauge_info": {
        "file_extension": ".fs",
        "mimetype": "text/x-fsharp",
        "name": "C#",
        "pygments_lexer": "fsharp",
        "version": "4.5"
        }
        },
            "nbformat": 4,
            "nbformat_minor": 1
        }
        

