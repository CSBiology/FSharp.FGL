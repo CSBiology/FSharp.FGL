
        {
            "cells": [
          {
           "cell_type": "markdown",
           "metadata": {},
           
           "source": ["// can\u0027t yet format YamlFrontmatter ([\"title: Random graph models\"; \"category: ArrayAdjacencyGraph\"; \"categoryindex: 4\"; \"index: 3\"], Some { StartLine = 2 StartColumn = 0 EndLine = 6 EndColumn = 8 }) to pynb markdown\n",
"\n",
"#Random graph models\n",
"\u003chr\u003e\n",
"\u003chr\u003e\n",
"\u003ca name=\"Random graph models\"\u003e\u003c/a\u003e\n",
"## Random graph models\n"]
          }
,
          {
           "cell_type": "code",
           "metadata": {},
            "execution_count": 2, "outputs": [], 
           "source": ["#r \"FSharp.Graph\"\n",
"#r \"FSharp.ArrayAdjacencyGraph\"\n",
"\n",
"open FSharp.Graph\n",
"open FSharp.ArrayAdjacencyGraph\n",
"open ArrayAdjacencyGraph.Models\n"]
          }
,
          {
           "cell_type": "markdown",
           "metadata": {},
           
           "source": ["To create random graph models, ArrayAdjacenyGraph includes three different methods:\n",
"\u003cbr\u003e\n",
"\n",
"\u003ca name=\"Gilbert\"\u003e\u003c/a\u003e\n",
"\u003ca name=\"Gilbert\"\u003e\u003c/a\u003e\n",
"## Gilbert\n",
"[The gilbert model](https://epubs.siam.org/doi/10.1137/0109045) (or G(N,p) model) was introduced by Edgar Gilbert in 1959. In this model, you assign a fixed amount of vertices N and a probability p. p denotes the probality, that edge between two vertices exists or not.\n"]
          }
,
          {
           "cell_type": "code",
           "metadata": {},
            "execution_count": 3, "outputs": [], 
           "source": ["open Gilbert.Gilbert\n",
"\n",
"//Create a new random graph based on the gilbert graph model\n",
"let gilbertRandomGraph : ArrayAdjacencyGraph\u003cint,string,float\u003e =\n",
"    gilbert 100 0.1 false (id) (fun x -\u003e sprintf \"%i\" x) (fun (a,b) -\u003e 1.)\n"]
          }
,
          {
           "cell_type": "markdown",
           "metadata": {},
           
           "source": ["\u003ca name=\"Barabasi-Albert\"\u003e\u003c/a\u003e\n",
"\u003ca name=\"Barabasi-Albert\"\u003e\u003c/a\u003e\n",
"## Barabasi-Albert\n",
"[The Barabasi-Albert model](https://science.sciencemag.org/content/286/5439/509) is an algorithm for creating scale-free graphes where on an existing graph n vertices with m edges that are added to the vertex each iteration.\n"]
          }
,
          {
           "cell_type": "code",
           "metadata": {},
            "execution_count": 4, "outputs": [], 
           "source": ["open BarabasiAlbert.BarabasiAlbert\n",
"\n",
"//Take a existing graph (here, the gilbertRandomGraph) and add the specified amount of vertices (50) with at least 5 edges connected to the new vertices\n",
"let barabasiAlbertGraph : ArrayAdjacencyGraph\u003cint,string,float\u003e =\n",
"    barabasiAlbert gilbertRandomGraph 50 5 (id) (fun x -\u003e sprintf \"%i\" x) (fun (a,b) -\u003e 1.)\n"]
          }
,
          {
           "cell_type": "markdown",
           "metadata": {},
           
           "source": ["\u003ca name=\"Bollobas-Riordan\"\u003e\u003c/a\u003e\n",
"\u003ca name=\"Bollobas-Riordan\"\u003e\u003c/a\u003e\n",
"## Bollobas-Riordan\n",
"[The Bollobas-Riordan model](https://onlinelibrary.wiley.com/doi/abs/10.1002/3527602755.ch1), an implementation similar to barabasiAlbert, where the resulting graph can be easily influenced thanks to the three additional parameters.\n"]
          }
,
          {
           "cell_type": "code",
           "metadata": {},
            "execution_count": 5, "outputs": [], 
           "source": ["open Scale_free_graph.BollobasRiordan\n",
"\n",
"//Create a graph following the bollobasRiordan graph model    \n",
"let bollobasRiordanGraph : ArrayAdjacencyGraph\u003cint,int,float\u003e =\n",
"    bollobasRiordan 100 0.6 0.1 0.3 0.5 0.5 (ArrayAdjacencyGraph())\n"]
          }],
            "metadata": {
            "kernelspec": {"display_name": ".NET (F#)", "language": "F#", "name": ".net-fsharp"},
            "langauge_info": {
        "file_extension": ".fs",
        "mimetype": "text/x-fsharp",
        "name": "C#",
        "pygments_lexer": "fsharp",
        "version": "4.5"
        }
        },
            "nbformat": 4,
            "nbformat_minor": 1
        }
        

