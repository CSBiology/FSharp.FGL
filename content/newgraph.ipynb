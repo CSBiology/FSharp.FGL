
        {
            "cells": [
          {
           "cell_type": "markdown",
           "metadata": {},
           
           "source": ["// can\u0027t yet format YamlFrontmatter ([\"title: Basic functionality\"; \"category: FSharp.FGL \"; \"categoryindex: 3\"; \"index: 2 \"], Some { StartLine = 2 StartColumn = 0 EndLine = 6 EndColumn = 9 }) to pynb markdown\n",
"\n",
"#Basic functionality\n",
"\n",
"In FSharp.FGL, the basic functions are separated into the Directed and the Undirected namespaces. Both undirected and directed graph functions use the same input type, but the information is read differently, depending on wether you call a function from the undirected or the directed namespace. Therefore it is advised to decide which kind of graph you work with beforehand. \n",
"In this quick tutorial we will work with directed Graphs.\n",
"\n"]
          }
,
          {
           "cell_type": "code",
           "metadata": {},
            "execution_count": 2, "outputs": [], 
           "source": ["#r \"FSharp.FGL.dll\"\n",
"#r \"FSharp.Graph\"\n",
"\n",
"open FSharp.FGL\n",
"open FSharp.FGL.Directed\n",
"open FSharp.Graph\n"]
          }
,
          {
           "cell_type": "markdown",
           "metadata": {},
           
           "source": ["## Creating a Graph\n",
"\n",
"The Graph can be created by the \"Graph.empty\" function. The Graph can then be filled by the \"Vertices.add\"/\"Vertices.addMany\" and the \"Edges.add\"/\"Edges.addMany\" functions. \n",
"Keep in mind that FSharp.FGL does not support unlabeled edges and unlabeled vertices\n",
"\n"]
          }
,
          {
           "cell_type": "code",
           "metadata": {},
            "execution_count": 3, "outputs": [], 
           "source": ["//Creating a list of labeled vertices\n",
"let vertexList : LVertex\u003cint,string\u003e list = List.init 4 (fun i -\u003e \n",
"        i + 1,\n",
"        sprintf \"VertexNr. %i\" i + 1)\n",
"\n",
"//Creating a list of labeled edges\n",
"let edgeList : LEdge\u003cint,float\u003e list = [(1,2,1.);(2,1,1.);(1,3,0.5);(3,4,0.8);(4,3,0.8)]\n",
"\n",
"//Creating a graph out of the two lists can be done in different ways\n",
"let myGraph : Graph\u003cint,string,float\u003e = \n",
"    Graph.create vertexList edgeList\n",
"\n",
"let myGraph\u0027 : Graph\u003cint,string,float\u003e =\n",
"    Graph.empty\n",
"    |\u003e Vertices.addMany vertexList\n",
"    |\u003e Edges.addMany edgeList\n"]
          }
,
          {
           "cell_type": "markdown",
           "metadata": {},
           
           "source": ["The Graph.create function is located in the Directed and in the Undirected namespaces. Therefore calling it while having one of those opened will result in building the according graph type.\n",
"Adding and Removing single vertices or edges can be done with the following functions:\n"]
          }
,
          {
           "cell_type": "code",
           "metadata": {},
            "execution_count": 4, "outputs": [], 
           "source": ["let myChangedGraph : Graph\u003cint,string,float\u003e =\n",
"    myGraph\n",
"    |\u003e Vertices.add (5,\"VertexNr. 5\")\n",
"    |\u003e Edges.add (5,1,0.7)\n",
"    |\u003e Edges.remove (2,1)\n"]
          }
,
          {
           "cell_type": "markdown",
           "metadata": {},
           
           "source": ["## Iteration\n",
"\n",
"coming soon\n"]
          }],
            "metadata": {
            "kernelspec": {"display_name": ".NET (F#)", "language": "F#", "name": ".net-fsharp"},
            "langauge_info": {
        "file_extension": ".fs",
        "mimetype": "text/x-fsharp",
        "name": "C#",
        "pygments_lexer": "fsharp",
        "version": "4.5"
        }
        },
            "nbformat": 4,
            "nbformat_minor": 1
        }
        

