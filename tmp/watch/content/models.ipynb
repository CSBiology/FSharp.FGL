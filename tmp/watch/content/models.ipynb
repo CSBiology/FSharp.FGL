
        {
            "cells": [
          {
           "cell_type": "markdown",
           "metadata": {},
           
           "source": ["#Testing with models\n"]
          }
,
          {
           "cell_type": "code",
           "metadata": {},
            "execution_count": null, "outputs": [], 
           "source": ["#r \"FSharp.FGL\"\n",
"open FSharp.FGL.Directed\n"]
          }
,
          {
           "cell_type": "markdown",
           "metadata": {},
           
           "source": ["## Motivation and overview\n",
"In every implementation workflow, there comes the point where you have to test wether everything works as expexted or not.\n",
"For this, a matching test set is necessary. In some cases (e.g. List sorting algorithms) creating those test sets is done in a matter of seconds.\n",
"In other cases, especially if the data you work with is more than one dimensional, it can get quite tedious.\n",
"To this effect, FSharp.FGl comes equipped with implementations of random graph generation models.  \n",
"In this tutorial I want to introduce you to the models implemented and how to generate graphs with the given functions:\n",
"    \n",
"* [Gilbert model](models.html#Gilbert-model) (not scale free)\n",
"\n",
"* [Erdős–Rényi model](models.html#Erdős–Rényi-model) (not scale free)\n",
"\n",
"* Barabási–Albert model (scale free; work in progress)  \n",
"\n",
"Afterwards I\u0027ll give a quick intro about [how to use the implementations to create graphs of any type](models.html#Genericity).\n",
"\n",
"## Models\n",
"### Gilbert model\n",
"\n",
"The gilbert model (or G(N,p) model) was introduced by Edgar Gilbert in 1959. In this model, you assign a fixed amount of vertices N and a probability p.\n",
"p denotes the probality, that edge between two vertices exists or not.  \n",
"The function is located in the Models module and can be used in the following way:\n"]
          }
,
          {
           "cell_type": "code",
           "metadata": {},
            "execution_count": null, "outputs": [], 
           "source": ["let N = 50\n",
"let p = 0.5\n",
"//This function takes an int and creates a labeled vertex ((id,label) tuple)\n",
"let vertexCreator i = (i,sprintf \"Call me Vertex nr. %i\" i)\n",
"\n",
"let myGilbertGraph = Models.gilbert vertexCreator N p\n"]
          }
,
          {
           "cell_type": "markdown",
           "metadata": {},
           
           "source": ["### Erdős–Rényi model\n",
"\n",
"The Erdős–Rényi model (or G(N,L) model) as used by Pál Erdős and Alfréd Rényi is a graph model where you assign a fixed vertex count and also a random edge count.\n",
"Those edges then get randomly distributed between the given edges.\n",
"The function is located in the Models module and can be used in the following way:\n"]
          }
,
          {
           "cell_type": "code",
           "metadata": {},
            "execution_count": null, "outputs": [], 
           "source": ["let L = 200\n",
"//We just use the vertexCreator and the nodeCount N assigned above\n",
"let myErdosRenyiGraph = Models.erdosRenyi vertexCreator N L\n"]
          }
,
          {
           "cell_type": "markdown",
           "metadata": {},
           
           "source": ["## Genericity\n",
"work in progress\n"]
          }],
            "metadata": {
            "kernelspec": {"display_name": ".NET (F#)", "language": "F#", "name": ".net-fsharp"},
            "langauge_info": {
        "file_extension": ".fs",
        "mimetype": "text/x-fsharp",
        "name": "C#",
        "pygments_lexer": "fsharp",
        "version": "4.5"
        }
        },
            "nbformat": 4,
            "nbformat_minor": 1
        }
        

