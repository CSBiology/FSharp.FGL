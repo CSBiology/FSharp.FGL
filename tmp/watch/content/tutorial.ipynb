
        {
            "cells": [
          {
           "cell_type": "markdown",
           "metadata": {},
           
           "source": ["#Introduction\n",
"\u003chr\u003e\n",
"\u003chr\u003e\n",
"\u003ca name=\"InductiveGraph\"\u003e\u003c/a\u003e\n",
"## Inductive Graph\n",
"The general aim of this FSharp.FGL is to provide an environment for F# programmers to functionally work with graphs. Besides the basic functions a graph-structure has to fulfill (like adding/removing vertices or counting edges), there are also functionalities needed which are not as elegantly and efficiently implementable in functional graphs (e.g. marking vertices as visited). This is tackled by Martin Erwig\u0027s [Inductive Graph Model](https://web.engr.oregonstate.edu/~erwig/papers/InductiveGraphs_JFP01.pdf). \n",
"\n",
"The inductive graph consists of so called contexts. Every context carries the information about one vertex in the form (pred, id, l, succ) where:\u003cbr\u003e\n",
"\u003cp class=\"indent\"\u003e-\u003cb\u003epred\u003c/b\u003e is a collection of all vertices pointing to this vertex\u003c/p\u003e\n",
"\u003cp class=\"indent\"\u003e-\u003cb\u003eid\u003c/b\u003e is the identifier of the vertex\u003c/p\u003e\n",
"\u003cp class=\"indent\"\u003e-\u003cb\u003el\u003c/b\u003e is the label of the vertex\u003c/p\u003e\n",
"\u003cp class=\"indent\"\u003e-\u003cb\u003esucc\u003c/b\u003e is a collection of all vertices this vertex points to\u003c/p\u003e\n",
"In this structure, both pred and succ are of type adjacency. This type consists of the id of the other vertex and the edgelabel.\n",
"\n",
"Working with the inductive graph model allows easy recursive walking through the graph because every vertex contains the information of it\u0027s edges to the other vertices. The so called [decompose-function]() then solves the problem of remembering which vertices were already visited by removing them from the graph.\n",
"\n",
"\u003ca name=\"Features\"\u003e\u003c/a\u003e\n",
"\u003ca name=\"Features\"\u003e\u003c/a\u003e\n",
"## Features\n",
"The basic structure of the implementation is done as in the [Hekate graph library](https://github.com/xyncro/hekate). Building a new library has many reasons:\n",
"\u003cp class=\"indent\"\u003e-FSharp.FGL was built with the intent to have easily readable code, so users can -if needed- design their own functions with the given structure more easily\u003c/p\u003e\n",
"\u003cp class=\"indent\"\u003e-The aforementioned decompose function is publicly accessible in FSharp.FGL. This is important for using path search algorithms more efficiently\u003c/p\u003e\n",
"\u003cp class=\"indent\"\u003e-The functions in FSharp.FGL are sorted into the Undirected and the Directed module. By this, users can more intuitively pick the right function for their purpose\u003c/p\u003e\n",
"\u003cp class=\"indent\"\u003e-FSharp.FGL aims to provide a thorough set of graph related functions, including path search functions and different graph models.\u003c/p\u003e\n",
"\n"]
          }],
            "metadata": {
            "kernelspec": {"display_name": ".NET (F#)", "language": "F#", "name": ".net-fsharp"},
            "langauge_info": {
        "file_extension": ".fs",
        "mimetype": "text/x-fsharp",
        "name": "C#",
        "pygments_lexer": "fsharp",
        "version": "4.5"
        }
        },
            "nbformat": 4,
            "nbformat_minor": 1
        }
        

