
        {
            "cells": [
          {
           "cell_type": "markdown",
           "metadata": {},
           
           "source": ["# FSharp.FGL\n",
"FSharp.FGL is a functional library to work with graphs. \n",
"\u003cbr\u003e\n",
"## Example\n",
"\n",
"\u003cbr\u003e\n",
"\u003cbr\u003e\n",
"This example demonstrates using a function defined in this sample library.\n",
"\u003cbr\u003e\n"]
          }
,
          {
           "cell_type": "code",
           "metadata": {},
            "execution_count": null, "outputs": [], 
           "source": ["#r \"FSharp.FGL.dll\"\n",
"open FSharp.FGL \n",
"\n",
"Graph.empty\n",
"|\u003e Undirected.Vertices.addMany [(1,\"Look At Me Im VertexOne\");(2,\"Look At Me Im VertexTwo\")]\n",
"|\u003e Undirected.Edges.add (1,2,\"Im An Edge Between VertexOne And VertexTwo \")\n",
"|\u003e Undirected.Edges.tryFind 1 2\n",
"//Returns Some (1,2,\"Im An Edge Between VertexOne And VertexTwo \")\n"]
          }
,
          {
           "cell_type": "markdown",
           "metadata": {},
           
           "source": ["## Samples \u0026 documentation\n",
"\u003cbr\u003e\n",
"\u003cbr\u003e\n",
"\n",
"The library comes with comprehensible documentation. \n",
"It can include tutorials automatically generated from `*.fsx` files in [the content folder][content]. \n",
"The API reference is automatically generated from comments in the library implementation.\n",
"\n",
" * [Tutorial](tutorial.html) contains a further explanation of this sample library.\n",
"\n",
" * [API Reference](reference/index.html) contains automatically generated documentation for all types, modules\n",
"   and functions in the library. This includes additional brief samples on using most of the\n",
"   functions.\n",
"   \n",
"## Contributing and copyright\n",
"\n",
"\n",
"The project is hosted on [GitHub][gh] where you can [report issues][issues], fork \n",
"the project and submit pull requests. If you\u0027re adding a new public API, please also \n",
"consider adding [samples][content] that can be turned into a documentation. You might\n",
"also want to read the [library design notes][readme] to understand how it works.\n",
"\n",
"The library is available under Public Domain license, which allows modification and \n",
"redistribution for both commercial and non-commercial purposes. For more information see the \n",
"[License file][license] in the GitHub repository. \n",
"\n",
"  [content]: https://github.com/fsprojects/FSharp.FGL/tree/master/docs/content\n",
"  [gh]: https://github.com/fsprojects/FSharp.FGL\n",
"  [issues]: https://github.com/fsprojects/FSharp.FGL/issues\n",
"  [readme]: https://github.com/fsprojects/FSharp.FGL/blob/master/README.md\n",
"  [license]: https://github.com/fsprojects/FSharp.FGL/blob/master/LICENSE.txt\n"]
          }],
            "metadata": {
            "kernelspec": {"display_name": ".NET (F#)", "language": "F#", "name": ".net-fsharp"},
            "langauge_info": {
        "file_extension": ".fs",
        "mimetype": "text/x-fsharp",
        "name": "C#",
        "pygments_lexer": "fsharp",
        "version": "4.5"
        }
        },
            "nbformat": 4,
            "nbformat_minor": 1
        }
        

